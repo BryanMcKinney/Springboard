{
 "cells": [
  {
   "cell_type": "markdown",
   "metadata": {},
   "source": [
    "# Mini Project: Tree-Based Algorithms"
   ]
  },
  {
   "cell_type": "markdown",
   "metadata": {},
   "source": [
    "## The \"German Credit\" Dataset"
   ]
  },
  {
   "cell_type": "markdown",
   "metadata": {},
   "source": [
    "### Dataset Details"
   ]
  },
  {
   "cell_type": "markdown",
   "metadata": {},
   "source": [
    "This dataset has two classes (these would be considered labels in Machine Learning terms) to describe the worthiness of a personal loan: \"Good\" or \"Bad\". There are predictors related to attributes, such as: checking account status, duration, credit history, purpose of the loan, amount of the loan, savings accounts or bonds, employment duration, installment rate in percentage of disposable income, personal information, other debtors/guarantors, residence duration, property, age, other installment plans, housing, number of existing credits, job information, number of people being liable to provide maintenance for, telephone, and foreign worker status.\n",
    "\n",
    "Many of these predictors are discrete and have been expanded into several 0/1 indicator variables (a.k.a. they have been one-hot-encoded).\n",
    "\n",
    "This dataset has been kindly provided by Professor Dr. Hans Hofmann of the University of Hamburg, and can also be found on the UCI Machine Learning Repository."
   ]
  },
  {
   "cell_type": "markdown",
   "metadata": {},
   "source": [
    "\n",
    "\n",
    "\n"
   ]
  },
  {
   "cell_type": "markdown",
   "metadata": {},
   "source": [
    "## Decision Trees"
   ]
  },
  {
   "cell_type": "markdown",
   "metadata": {},
   "source": [
    " As we have learned in the previous lectures, Decision Trees as a family of algorithms (irrespective to the particular implementation) are powerful algorithms that can produce models with a predictive accuracy higher than that produced by linear models, such as Linear or Logistic Regression. Primarily, this is due to the fact the DT's can model nonlinear relationships, and also have a number of tuning paramters, that allow for the practicioner to achieve the best possible model. An added bonus is the ability to visualize the trained Decision Tree model, which allows for some insight into how the model has produced the predictions that it has. One caveat here, to keep in mind, is that sometimes, due to the size of the dataset (both in the sense of the number of records, as well as the number of features), the visualization might prove to be very large and complex, increasing the difficulty of interpretation."
   ]
  },
  {
   "cell_type": "markdown",
   "metadata": {},
   "source": [
    "To give you a very good example of how Decision Trees can be visualized and interpreted, we would strongly recommend that, before continuing on with solving the problems in this Mini Project, you take the time to read this fanstastic, detailed and informative blog post: http://explained.ai/decision-tree-viz/index.html"
   ]
  },
  {
   "cell_type": "markdown",
   "metadata": {},
   "source": [
    "## Building Your First Decision Tree Model"
   ]
  },
  {
   "cell_type": "markdown",
   "metadata": {},
   "source": [
    "So, now it's time to jump straight into the heart of the matter. Your first task, is to build a Decision Tree model, using the aforementioned \"German Credit\" dataset, which contains 1,000 records, and 62 columns (one of them presents the labels, and the other 61 present the potential features for the model.)"
   ]
  },
  {
   "cell_type": "markdown",
   "metadata": {},
   "source": [
    "For this task, you will be using the scikit-learn library, which comes already pre-installed with the Anaconda Python distribution. In case you're not using that, you can easily install it using pip."
   ]
  },
  {
   "cell_type": "markdown",
   "metadata": {},
   "source": [
    "Before embarking on creating your first model, we would strongly encourage you to read the short tutorial for Decision Trees in scikit-learn (http://scikit-learn.org/stable/modules/tree.html), and then dive a bit deeper into the documentation of the algorithm itself (http://scikit-learn.org/stable/modules/generated/sklearn.tree.DecisionTreeClassifier.html). "
   ]
  },
  {
   "cell_type": "markdown",
   "metadata": {},
   "source": [
    "Also, since you want to be able to present the results of your model, we suggest you take a look at the tutorial for accuracy metrics for classification models (http://scikit-learn.org/stable/modules/model_evaluation.html#classification-report) as well as the more detailed documentation (http://scikit-learn.org/stable/modules/generated/sklearn.metrics.classification_report.html).\n",
    "\n",
    "Finally, an *amazing* resource that explains the various classification model accuracy metrics, as well as the relationships between them, can be found on Wikipedia: https://en.wikipedia.org/wiki/Confusion_matrix"
   ]
  },
  {
   "cell_type": "markdown",
   "metadata": {},
   "source": [
    "(Note: as you've already learned in the Logistic Regression mini project, a standard practice in Machine Learning for achieving the best possible result when training a model is to use hyperparameter tuning, through Grid Search and k-fold Cross Validation. We strongly encourage you to use it here as well, not just because it's standard practice, but also becuase it's not going to be computationally to intensive, due to the size of the dataset that you're working with. Our suggestion here is that you split the data into 70% training, and 30% testing. Then, do the hyperparameter tuning and Cross Validation on the training set, and afterwards to a final test on the testing set.)"
   ]
  },
  {
   "cell_type": "markdown",
   "metadata": {},
   "source": [
    "### Now we pass the torch onto you! You can start building your first Decision Tree model! :)"
   ]
  },
  {
   "cell_type": "code",
   "execution_count": 1,
   "metadata": {},
   "outputs": [],
   "source": [
    "import pandas as pd\n",
    "from sklearn.tree import DecisionTreeClassifier\n",
    "from sklearn.metrics import classification_report\n",
    "from sklearn.model_selection import train_test_split\n",
    "from sklearn.model_selection import GridSearchCV"
   ]
  },
  {
   "cell_type": "code",
   "execution_count": 101,
   "metadata": {},
   "outputs": [
    {
     "data": {
      "text/html": [
       "<div>\n",
       "<style scoped>\n",
       "    .dataframe tbody tr th:only-of-type {\n",
       "        vertical-align: middle;\n",
       "    }\n",
       "\n",
       "    .dataframe tbody tr th {\n",
       "        vertical-align: top;\n",
       "    }\n",
       "\n",
       "    .dataframe thead th {\n",
       "        text-align: right;\n",
       "    }\n",
       "</style>\n",
       "<table border=\"1\" class=\"dataframe\">\n",
       "  <thead>\n",
       "    <tr style=\"text-align: right;\">\n",
       "      <th></th>\n",
       "      <th>Duration</th>\n",
       "      <th>Amount</th>\n",
       "      <th>InstallmentRatePercentage</th>\n",
       "      <th>ResidenceDuration</th>\n",
       "      <th>Age</th>\n",
       "      <th>NumberExistingCredits</th>\n",
       "      <th>NumberPeopleMaintenance</th>\n",
       "      <th>Telephone</th>\n",
       "      <th>ForeignWorker</th>\n",
       "      <th>Class</th>\n",
       "      <th>...</th>\n",
       "      <th>OtherInstallmentPlans.Bank</th>\n",
       "      <th>OtherInstallmentPlans.Stores</th>\n",
       "      <th>OtherInstallmentPlans.None</th>\n",
       "      <th>Housing.Rent</th>\n",
       "      <th>Housing.Own</th>\n",
       "      <th>Housing.ForFree</th>\n",
       "      <th>Job.UnemployedUnskilled</th>\n",
       "      <th>Job.UnskilledResident</th>\n",
       "      <th>Job.SkilledEmployee</th>\n",
       "      <th>Job.Management.SelfEmp.HighlyQualified</th>\n",
       "    </tr>\n",
       "  </thead>\n",
       "  <tbody>\n",
       "    <tr>\n",
       "      <th>0</th>\n",
       "      <td>6</td>\n",
       "      <td>1169</td>\n",
       "      <td>4</td>\n",
       "      <td>4</td>\n",
       "      <td>67</td>\n",
       "      <td>2</td>\n",
       "      <td>1</td>\n",
       "      <td>0</td>\n",
       "      <td>1</td>\n",
       "      <td>Good</td>\n",
       "      <td>...</td>\n",
       "      <td>0</td>\n",
       "      <td>0</td>\n",
       "      <td>1</td>\n",
       "      <td>0</td>\n",
       "      <td>1</td>\n",
       "      <td>0</td>\n",
       "      <td>0</td>\n",
       "      <td>0</td>\n",
       "      <td>1</td>\n",
       "      <td>0</td>\n",
       "    </tr>\n",
       "    <tr>\n",
       "      <th>1</th>\n",
       "      <td>48</td>\n",
       "      <td>5951</td>\n",
       "      <td>2</td>\n",
       "      <td>2</td>\n",
       "      <td>22</td>\n",
       "      <td>1</td>\n",
       "      <td>1</td>\n",
       "      <td>1</td>\n",
       "      <td>1</td>\n",
       "      <td>Bad</td>\n",
       "      <td>...</td>\n",
       "      <td>0</td>\n",
       "      <td>0</td>\n",
       "      <td>1</td>\n",
       "      <td>0</td>\n",
       "      <td>1</td>\n",
       "      <td>0</td>\n",
       "      <td>0</td>\n",
       "      <td>0</td>\n",
       "      <td>1</td>\n",
       "      <td>0</td>\n",
       "    </tr>\n",
       "    <tr>\n",
       "      <th>2</th>\n",
       "      <td>12</td>\n",
       "      <td>2096</td>\n",
       "      <td>2</td>\n",
       "      <td>3</td>\n",
       "      <td>49</td>\n",
       "      <td>1</td>\n",
       "      <td>2</td>\n",
       "      <td>1</td>\n",
       "      <td>1</td>\n",
       "      <td>Good</td>\n",
       "      <td>...</td>\n",
       "      <td>0</td>\n",
       "      <td>0</td>\n",
       "      <td>1</td>\n",
       "      <td>0</td>\n",
       "      <td>1</td>\n",
       "      <td>0</td>\n",
       "      <td>0</td>\n",
       "      <td>1</td>\n",
       "      <td>0</td>\n",
       "      <td>0</td>\n",
       "    </tr>\n",
       "    <tr>\n",
       "      <th>3</th>\n",
       "      <td>42</td>\n",
       "      <td>7882</td>\n",
       "      <td>2</td>\n",
       "      <td>4</td>\n",
       "      <td>45</td>\n",
       "      <td>1</td>\n",
       "      <td>2</td>\n",
       "      <td>1</td>\n",
       "      <td>1</td>\n",
       "      <td>Good</td>\n",
       "      <td>...</td>\n",
       "      <td>0</td>\n",
       "      <td>0</td>\n",
       "      <td>1</td>\n",
       "      <td>0</td>\n",
       "      <td>0</td>\n",
       "      <td>1</td>\n",
       "      <td>0</td>\n",
       "      <td>0</td>\n",
       "      <td>1</td>\n",
       "      <td>0</td>\n",
       "    </tr>\n",
       "    <tr>\n",
       "      <th>4</th>\n",
       "      <td>24</td>\n",
       "      <td>4870</td>\n",
       "      <td>3</td>\n",
       "      <td>4</td>\n",
       "      <td>53</td>\n",
       "      <td>2</td>\n",
       "      <td>2</td>\n",
       "      <td>1</td>\n",
       "      <td>1</td>\n",
       "      <td>Bad</td>\n",
       "      <td>...</td>\n",
       "      <td>0</td>\n",
       "      <td>0</td>\n",
       "      <td>1</td>\n",
       "      <td>0</td>\n",
       "      <td>0</td>\n",
       "      <td>1</td>\n",
       "      <td>0</td>\n",
       "      <td>0</td>\n",
       "      <td>1</td>\n",
       "      <td>0</td>\n",
       "    </tr>\n",
       "  </tbody>\n",
       "</table>\n",
       "<p>5 rows × 62 columns</p>\n",
       "</div>"
      ],
      "text/plain": [
       "   Duration  Amount  InstallmentRatePercentage  ResidenceDuration  Age  \\\n",
       "0         6    1169                          4                  4   67   \n",
       "1        48    5951                          2                  2   22   \n",
       "2        12    2096                          2                  3   49   \n",
       "3        42    7882                          2                  4   45   \n",
       "4        24    4870                          3                  4   53   \n",
       "\n",
       "   NumberExistingCredits  NumberPeopleMaintenance  Telephone  ForeignWorker  \\\n",
       "0                      2                        1          0              1   \n",
       "1                      1                        1          1              1   \n",
       "2                      1                        2          1              1   \n",
       "3                      1                        2          1              1   \n",
       "4                      2                        2          1              1   \n",
       "\n",
       "  Class                   ...                    OtherInstallmentPlans.Bank  \\\n",
       "0  Good                   ...                                             0   \n",
       "1   Bad                   ...                                             0   \n",
       "2  Good                   ...                                             0   \n",
       "3  Good                   ...                                             0   \n",
       "4   Bad                   ...                                             0   \n",
       "\n",
       "   OtherInstallmentPlans.Stores  OtherInstallmentPlans.None  Housing.Rent  \\\n",
       "0                             0                           1             0   \n",
       "1                             0                           1             0   \n",
       "2                             0                           1             0   \n",
       "3                             0                           1             0   \n",
       "4                             0                           1             0   \n",
       "\n",
       "   Housing.Own  Housing.ForFree  Job.UnemployedUnskilled  \\\n",
       "0            1                0                        0   \n",
       "1            1                0                        0   \n",
       "2            1                0                        0   \n",
       "3            0                1                        0   \n",
       "4            0                1                        0   \n",
       "\n",
       "   Job.UnskilledResident  Job.SkilledEmployee  \\\n",
       "0                      0                    1   \n",
       "1                      0                    1   \n",
       "2                      1                    0   \n",
       "3                      0                    1   \n",
       "4                      0                    1   \n",
       "\n",
       "   Job.Management.SelfEmp.HighlyQualified  \n",
       "0                                       0  \n",
       "1                                       0  \n",
       "2                                       0  \n",
       "3                                       0  \n",
       "4                                       0  \n",
       "\n",
       "[5 rows x 62 columns]"
      ]
     },
     "execution_count": 101,
     "metadata": {},
     "output_type": "execute_result"
    }
   ],
   "source": [
    "# Your code here! :)\n",
    "credit = pd.read_csv('GermanCredit.csv')\n",
    "credit.head()"
   ]
  },
  {
   "cell_type": "code",
   "execution_count": 42,
   "metadata": {},
   "outputs": [
    {
     "data": {
      "text/plain": [
       "Duration                                  False\n",
       "Amount                                    False\n",
       "InstallmentRatePercentage                 False\n",
       "ResidenceDuration                         False\n",
       "Age                                       False\n",
       "NumberExistingCredits                     False\n",
       "NumberPeopleMaintenance                   False\n",
       "Telephone                                 False\n",
       "ForeignWorker                             False\n",
       "Class                                     False\n",
       "CheckingAccountStatus.lt.0                False\n",
       "CheckingAccountStatus.0.to.200            False\n",
       "CheckingAccountStatus.gt.200              False\n",
       "CheckingAccountStatus.none                False\n",
       "CreditHistory.NoCredit.AllPaid            False\n",
       "CreditHistory.ThisBank.AllPaid            False\n",
       "CreditHistory.PaidDuly                    False\n",
       "CreditHistory.Delay                       False\n",
       "CreditHistory.Critical                    False\n",
       "Purpose.NewCar                            False\n",
       "Purpose.UsedCar                           False\n",
       "Purpose.Furniture.Equipment               False\n",
       "Purpose.Radio.Television                  False\n",
       "Purpose.DomesticAppliance                 False\n",
       "Purpose.Repairs                           False\n",
       "Purpose.Education                         False\n",
       "Purpose.Vacation                          False\n",
       "Purpose.Retraining                        False\n",
       "Purpose.Business                          False\n",
       "Purpose.Other                             False\n",
       "                                          ...  \n",
       "SavingsAccountBonds.500.to.1000           False\n",
       "SavingsAccountBonds.gt.1000               False\n",
       "SavingsAccountBonds.Unknown               False\n",
       "EmploymentDuration.lt.1                   False\n",
       "EmploymentDuration.1.to.4                 False\n",
       "EmploymentDuration.4.to.7                 False\n",
       "EmploymentDuration.gt.7                   False\n",
       "EmploymentDuration.Unemployed             False\n",
       "Personal.Male.Divorced.Seperated          False\n",
       "Personal.Female.NotSingle                 False\n",
       "Personal.Male.Single                      False\n",
       "Personal.Male.Married.Widowed             False\n",
       "Personal.Female.Single                    False\n",
       "OtherDebtorsGuarantors.None               False\n",
       "OtherDebtorsGuarantors.CoApplicant        False\n",
       "OtherDebtorsGuarantors.Guarantor          False\n",
       "Property.RealEstate                       False\n",
       "Property.Insurance                        False\n",
       "Property.CarOther                         False\n",
       "Property.Unknown                          False\n",
       "OtherInstallmentPlans.Bank                False\n",
       "OtherInstallmentPlans.Stores              False\n",
       "OtherInstallmentPlans.None                False\n",
       "Housing.Rent                              False\n",
       "Housing.Own                               False\n",
       "Housing.ForFree                           False\n",
       "Job.UnemployedUnskilled                   False\n",
       "Job.UnskilledResident                     False\n",
       "Job.SkilledEmployee                       False\n",
       "Job.Management.SelfEmp.HighlyQualified    False\n",
       "Length: 62, dtype: bool"
      ]
     },
     "execution_count": 42,
     "metadata": {},
     "output_type": "execute_result"
    }
   ],
   "source": [
    "pd.isnull(credit).any()\n"
   ]
  },
  {
   "cell_type": "code",
   "execution_count": 50,
   "metadata": {},
   "outputs": [],
   "source": [
    "from sklearn.model_selection import train_test_split\n",
    "Xtrain, Xtest, ytrain, ytest = train_test_split(c,y,test_size=0.30,random_state=1)\n",
    "Xtrain = credit.iloc[0:700]\n",
    "Xtest = credit.iloc[701:1000]\n",
    "Ytrain = Xtrain['Class']\n",
    "Ytest = Xtest['Class']\n",
    "Xtrain = Xtrain.drop(['Class'],axis = 1)\n",
    "Xtest = Xtest.drop(['Class'],axis = 1)\n",
    "\n",
    "y = credit['Class']\n",
    "c = credit.drop(['Class'], axis = 1)\n",
    "#y.head()"
   ]
  },
  {
   "cell_type": "code",
   "execution_count": 51,
   "metadata": {},
   "outputs": [],
   "source": [
    "from sklearn import tree\n",
    "clf = DecisionTreeClassifier()\n",
    "clf = clf.fit(Xtrain, Ytrain)"
   ]
  },
  {
   "cell_type": "code",
   "execution_count": 55,
   "metadata": {},
   "outputs": [
    {
     "data": {
      "text/plain": [
       "0.7023411371237458"
      ]
     },
     "execution_count": 55,
     "metadata": {},
     "output_type": "execute_result"
    }
   ],
   "source": [
    "from sklearn.model_selection import cross_val_score\n",
    "clf.score(Xtest,Ytest)"
   ]
  },
  {
   "cell_type": "markdown",
   "metadata": {},
   "source": [
    "Initial run with training on 70% of the data gives us a 70% accuracy with the test data"
   ]
  },
  {
   "cell_type": "code",
   "execution_count": 60,
   "metadata": {},
   "outputs": [
    {
     "name": "stderr",
     "output_type": "stream",
     "text": [
      "/Users/bryanmckinney/miniconda3/lib/python3.5/site-packages/sklearn/model_selection/_split.py:2053: FutureWarning: You should specify a value for 'cv' instead of relying on the default value. The default value will change from 3 to 5 in version 0.22.\n",
      "  warnings.warn(CV_WARNING, FutureWarning)\n"
     ]
    },
    {
     "data": {
      "text/plain": [
       "array([0.7       , 0.69      , 0.63636364])"
      ]
     },
     "execution_count": 60,
     "metadata": {},
     "output_type": "execute_result"
    }
   ],
   "source": [
    "cross_val_score(clf, Xtest, Ytest)"
   ]
  },
  {
   "cell_type": "code",
   "execution_count": 61,
   "metadata": {},
   "outputs": [
    {
     "name": "stdout",
     "output_type": "stream",
     "text": [
      "{'CreditHistory.Critical': 0.013947274728648746, 'Purpose.Education': 0.025648200124975585, 'CheckingAccountStatus.none': 0.10186505211075862, 'EmploymentDuration.Unemployed': 0.0, 'Personal.Female.Single': 0.0, 'Property.RealEstate': 0.011003485185511818, 'Purpose.UsedCar': 0.011534040284325508, 'Job.UnskilledResident': 0.004877735424226882, 'Personal.Male.Divorced.Seperated': 0.011622728940540623, 'EmploymentDuration.lt.1': 0.03277762998228376, 'CheckingAccountStatus.0.to.200': 0.004115589264191443, 'OtherDebtorsGuarantors.CoApplicant': 0.011013012012512252, 'Job.Management.SelfEmp.HighlyQualified': 0.0056740660811462765, 'EmploymentDuration.gt.7': 0.0, 'Purpose.Repairs': 0.006430608225299115, 'EmploymentDuration.1.to.4': 0.016129505805623622, 'Duration': 0.09366883388378308, 'SavingsAccountBonds.500.to.1000': 0.001350465936512013, 'Housing.Rent': 0.004572876960212704, 'ForeignWorker': 0.0, 'NumberPeopleMaintenance': 0.0, 'Purpose.Furniture.Equipment': 0.01160066681485539, 'ResidenceDuration': 0.038784907794366816, 'Purpose.Business': 0.011390073796950857, 'Amount': 0.13170991991633377, 'OtherInstallmentPlans.None': 0.022432291620376382, 'CreditHistory.PaidDuly': 0.012556665685344305, 'NumberExistingCredits': 0.01803428351183885, 'CreditHistory.Delay': 0.0, 'CheckingAccountStatus.lt.0': 0.019095500218819457, 'EmploymentDuration.4.to.7': 0.026513238395732764, 'Housing.Own': 0.004572876960212704, 'SavingsAccountBonds.lt.100': 0.0195301115317255, 'Purpose.Radio.Television': 0.021029748289763783, 'Purpose.NewCar': 0.00715655244273288, 'SavingsAccountBonds.Unknown': 0.028362249184351224, 'Personal.Male.Married.Widowed': 0.016153415666894225, 'Property.Unknown': 0.0, 'Purpose.Vacation': 0.0, 'Job.UnemployedUnskilled': 0.0, 'Property.CarOther': 0.005234986320295059, 'CreditHistory.ThisBank.AllPaid': 0.016254848354369578, 'SavingsAccountBonds.100.to.500': 0.003429657720159528, 'Telephone': 0.004572876960212704, 'Purpose.DomesticAppliance': 0.006097169280283605, 'Personal.Male.Single': 0.0, 'SavingsAccountBonds.gt.1000': 0.0, 'OtherInstallmentPlans.Bank': 0.0, 'OtherDebtorsGuarantors.Guarantor': 0.004885530100863646, 'CreditHistory.NoCredit.AllPaid': 0.005050950460598577, 'Personal.Female.NotSingle': 0.022048104550299916, 'CheckingAccountStatus.gt.200': 0.0, 'InstallmentRatePercentage': 0.024329356230743, 'OtherInstallmentPlans.Stores': 0.0, 'Housing.ForFree': 0.010452290194771896, 'Property.Insurance': 0.010288973160478583, 'Purpose.Other': 0.005738512263796332, 'Job.SkilledEmployee': 0.013896794918048997, 'Purpose.Retraining': 0.0, 'Age': 0.1004922803757827, 'OtherDebtorsGuarantors.None': 0.022074062328444926}\n"
     ]
    }
   ],
   "source": [
    "print(dict(zip(Xtrain.columns, clf.feature_importances_)))"
   ]
  },
  {
   "cell_type": "code",
   "execution_count": 104,
   "metadata": {},
   "outputs": [],
   "source": [
    "credit = pd.read_csv('GermanCredit.csv')\n",
    "credit = credit.drop(['EmploymentDuration.Unemployed','Personal.Female.Single','Job.UnskilledResident','CheckingAccountStatus.0.to.200',\n",
    "                     'Job.Management.SelfEmp.HighlyQualified','EmploymentDuration.gt.7','Purpose.Repairs','SavingsAccountBonds.500.to.1000',\n",
    "                     'Housing.Rent', 'ForeignWorker', 'NumberPeopleMaintenance','CreditHistory.Delay','Housing.Own','Purpose.NewCar',\n",
    "                     'Property.Unknown', 'Purpose.Vacation', 'Job.UnemployedUnskilled', 'Property.CarOther','SavingsAccountBonds.100.to.500',\n",
    "                     'Telephone', 'Purpose.DomesticAppliance', 'Personal.Male.Single', 'SavingsAccountBonds.gt.1000',\n",
    "                    'OtherInstallmentPlans.Bank', 'OtherDebtorsGuarantors.Guarantor', 'CreditHistory.NoCredit.AllPaid', \n",
    "                     'CheckingAccountStatus.gt.200','OtherInstallmentPlans.Stores', 'Purpose.Other','Purpose.Retraining',\n",
    "                     'NumberExistingCredits','CreditHistory.Critical','Property.RealEstate','Purpose.Furniture.Equipment', \n",
    "                      'Housing.ForFree','Purpose.Business' ],axis=1)\n",
    "Xtrain = credit.iloc[0:700]\n",
    "Xtest = credit.iloc[701:1000]\n",
    "Ytrain = Xtrain['Class']\n",
    "Ytest = Xtest['Class']\n",
    "Xtrain = Xtrain.drop(['Class'],axis = 1)\n",
    "Xtest = Xtest.drop(['Class'],axis = 1)\n",
    "\n",
    "y = credit['Class']\n",
    "c = credit.drop(['Class'], axis = 1)\n",
    "from sklearn.model_selection import train_test_split\n",
    "Xtrain, Xtest, Ytrain, Ytest = train_test_split(c,y,test_size=0.30,random_state=1)\n"
   ]
  },
  {
   "cell_type": "code",
   "execution_count": 112,
   "metadata": {},
   "outputs": [
    {
     "data": {
      "text/plain": [
       "0.7366666666666667"
      ]
     },
     "execution_count": 112,
     "metadata": {},
     "output_type": "execute_result"
    }
   ],
   "source": [
    "from sklearn import tree\n",
    "clf = DecisionTreeClassifier(max_depth=3)\n",
    "clf = clf.fit(Xtrain, Ytrain)\n",
    "clf.score(Xtest,Ytest)\n"
   ]
  },
  {
   "cell_type": "markdown",
   "metadata": {},
   "source": [
    "### After you've built the best model you can, now it's time to visualize it!"
   ]
  },
  {
   "cell_type": "code",
   "execution_count": null,
   "metadata": {},
   "outputs": [],
   "source": []
  },
  {
   "cell_type": "code",
   "execution_count": 113,
   "metadata": {},
   "outputs": [
    {
     "data": {
      "image/svg+xml": [
       "<?xml version=\"1.0\" encoding=\"UTF-8\" standalone=\"no\"?>\n",
       "<!DOCTYPE svg PUBLIC \"-//W3C//DTD SVG 1.1//EN\"\n",
       " \"http://www.w3.org/Graphics/SVG/1.1/DTD/svg11.dtd\">\n",
       "<!-- Generated by graphviz version 2.40.1 (20161225.0304)\n",
       " -->\n",
       "<!-- Title: Tree Pages: 1 -->\n",
       "<svg width=\"1010pt\" height=\"414pt\"\n",
       " viewBox=\"0.00 0.00 1010.02 414.00\" xmlns=\"http://www.w3.org/2000/svg\" xmlns:xlink=\"http://www.w3.org/1999/xlink\">\n",
       "<g id=\"graph0\" class=\"graph\" transform=\"scale(1 1) rotate(0) translate(4 410)\">\n",
       "<title>Tree</title>\n",
       "<polygon fill=\"#ffffff\" stroke=\"transparent\" points=\"-4,4 -4,-410 1006.02,-410 1006.02,4 -4,4\"/>\n",
       "<!-- 0 -->\n",
       "<g id=\"node1\" class=\"node\">\n",
       "<title>0</title>\n",
       "<path fill=\"#399de5\" fill-opacity=\"0.560784\" stroke=\"#000000\" d=\"M668.1634,-406C668.1634,-406 457.9635,-406 457.9635,-406 451.9635,-406 445.9635,-400 445.9635,-394 445.9635,-394 445.9635,-340 445.9635,-340 445.9635,-334 451.9635,-328 457.9635,-328 457.9635,-328 668.1634,-328 668.1634,-328 674.1634,-328 680.1634,-334 680.1634,-340 680.1634,-340 680.1634,-394 680.1634,-394 680.1634,-400 674.1634,-406 668.1634,-406\"/>\n",
       "<text text-anchor=\"start\" x=\"453.7637\" y=\"-390.8\" font-family=\"Helvetica,sans-Serif\" font-size=\"14.00\" fill=\"#000000\">CheckingAccountStatus.none ≤ 0.5</text>\n",
       "<text text-anchor=\"start\" x=\"526.6724\" y=\"-376.8\" font-family=\"Helvetica,sans-Serif\" font-size=\"14.00\" fill=\"#000000\">gini = 0.425</text>\n",
       "<text text-anchor=\"start\" x=\"517.3413\" y=\"-362.8\" font-family=\"Helvetica,sans-Serif\" font-size=\"14.00\" fill=\"#000000\">samples = 700</text>\n",
       "<text text-anchor=\"start\" x=\"507.2139\" y=\"-348.8\" font-family=\"Helvetica,sans-Serif\" font-size=\"14.00\" fill=\"#000000\">value = [214, 486]</text>\n",
       "<text text-anchor=\"start\" x=\"526.6826\" y=\"-334.8\" font-family=\"Helvetica,sans-Serif\" font-size=\"14.00\" fill=\"#000000\">class = Bad</text>\n",
       "</g>\n",
       "<!-- 1 -->\n",
       "<g id=\"node2\" class=\"node\">\n",
       "<title>1</title>\n",
       "<path fill=\"#399de5\" fill-opacity=\"0.270588\" stroke=\"#000000\" d=\"M463.763,-292C463.763,-292 360.3639,-292 360.3639,-292 354.3639,-292 348.3639,-286 348.3639,-280 348.3639,-280 348.3639,-226 348.3639,-226 348.3639,-220 354.3639,-214 360.3639,-214 360.3639,-214 463.763,-214 463.763,-214 469.763,-214 475.763,-220 475.763,-226 475.763,-226 475.763,-280 475.763,-280 475.763,-286 469.763,-292 463.763,-292\"/>\n",
       "<text text-anchor=\"start\" x=\"364.2495\" y=\"-276.8\" font-family=\"Helvetica,sans-Serif\" font-size=\"14.00\" fill=\"#000000\">Duration ≤ 22.5</text>\n",
       "<text text-anchor=\"start\" x=\"375.6724\" y=\"-262.8\" font-family=\"Helvetica,sans-Serif\" font-size=\"14.00\" fill=\"#000000\">gini = 0.488</text>\n",
       "<text text-anchor=\"start\" x=\"366.3413\" y=\"-248.8\" font-family=\"Helvetica,sans-Serif\" font-size=\"14.00\" fill=\"#000000\">samples = 424</text>\n",
       "<text text-anchor=\"start\" x=\"356.2139\" y=\"-234.8\" font-family=\"Helvetica,sans-Serif\" font-size=\"14.00\" fill=\"#000000\">value = [179, 245]</text>\n",
       "<text text-anchor=\"start\" x=\"375.6826\" y=\"-220.8\" font-family=\"Helvetica,sans-Serif\" font-size=\"14.00\" fill=\"#000000\">class = Bad</text>\n",
       "</g>\n",
       "<!-- 0&#45;&gt;1 -->\n",
       "<g id=\"edge1\" class=\"edge\">\n",
       "<title>0&#45;&gt;1</title>\n",
       "<path fill=\"none\" stroke=\"#000000\" d=\"M511.0978,-327.7677C498.4519,-318.2204 484.8272,-307.9342 471.8505,-298.1373\"/>\n",
       "<polygon fill=\"#000000\" stroke=\"#000000\" points=\"473.9588,-295.3435 463.869,-292.1115 469.7411,-300.9302 473.9588,-295.3435\"/>\n",
       "<text text-anchor=\"middle\" x=\"467.326\" y=\"-312.6713\" font-family=\"Helvetica,sans-Serif\" font-size=\"14.00\" fill=\"#000000\">True</text>\n",
       "</g>\n",
       "<!-- 8 -->\n",
       "<g id=\"node9\" class=\"node\">\n",
       "<title>8</title>\n",
       "<path fill=\"#399de5\" fill-opacity=\"0.854902\" stroke=\"#000000\" d=\"M745.0771,-292C745.0771,-292 543.0498,-292 543.0498,-292 537.0498,-292 531.0498,-286 531.0498,-280 531.0498,-280 531.0498,-226 531.0498,-226 531.0498,-220 537.0498,-214 543.0498,-214 543.0498,-214 745.0771,-214 745.0771,-214 751.0771,-214 757.0771,-220 757.0771,-226 757.0771,-226 757.0771,-280 757.0771,-280 757.0771,-286 751.0771,-292 745.0771,-292\"/>\n",
       "<text text-anchor=\"start\" x=\"539.0566\" y=\"-276.8\" font-family=\"Helvetica,sans-Serif\" font-size=\"14.00\" fill=\"#000000\">OtherInstallmentPlans.None ≤ 0.5</text>\n",
       "<text text-anchor=\"start\" x=\"607.6724\" y=\"-262.8\" font-family=\"Helvetica,sans-Serif\" font-size=\"14.00\" fill=\"#000000\">gini = 0.221</text>\n",
       "<text text-anchor=\"start\" x=\"598.3413\" y=\"-248.8\" font-family=\"Helvetica,sans-Serif\" font-size=\"14.00\" fill=\"#000000\">samples = 276</text>\n",
       "<text text-anchor=\"start\" x=\"592.1069\" y=\"-234.8\" font-family=\"Helvetica,sans-Serif\" font-size=\"14.00\" fill=\"#000000\">value = [35, 241]</text>\n",
       "<text text-anchor=\"start\" x=\"607.6826\" y=\"-220.8\" font-family=\"Helvetica,sans-Serif\" font-size=\"14.00\" fill=\"#000000\">class = Bad</text>\n",
       "</g>\n",
       "<!-- 0&#45;&gt;8 -->\n",
       "<g id=\"edge8\" class=\"edge\">\n",
       "<title>0&#45;&gt;8</title>\n",
       "<path fill=\"none\" stroke=\"#000000\" d=\"M590.9391,-327.7677C597.1757,-318.9903 603.856,-309.5883 610.302,-300.5161\"/>\n",
       "<polygon fill=\"#000000\" stroke=\"#000000\" points=\"613.1975,-302.4837 616.1365,-292.3046 607.4912,-298.4292 613.1975,-302.4837\"/>\n",
       "<text text-anchor=\"middle\" x=\"620.3079\" y=\"-312.7542\" font-family=\"Helvetica,sans-Serif\" font-size=\"14.00\" fill=\"#000000\">False</text>\n",
       "</g>\n",
       "<!-- 2 -->\n",
       "<g id=\"node3\" class=\"node\">\n",
       "<title>2</title>\n",
       "<path fill=\"#399de5\" fill-opacity=\"0.513725\" stroke=\"#000000\" d=\"M233.9766,-178C233.9766,-178 138.1504,-178 138.1504,-178 132.1504,-178 126.1504,-172 126.1504,-166 126.1504,-166 126.1504,-112 126.1504,-112 126.1504,-106 132.1504,-100 138.1504,-100 138.1504,-100 233.9766,-100 233.9766,-100 239.9766,-100 245.9766,-106 245.9766,-112 245.9766,-112 245.9766,-166 245.9766,-166 245.9766,-172 239.9766,-178 233.9766,-178\"/>\n",
       "<text text-anchor=\"start\" x=\"152.2529\" y=\"-162.8\" font-family=\"Helvetica,sans-Serif\" font-size=\"14.00\" fill=\"#000000\">Age ≤ 34.5</text>\n",
       "<text text-anchor=\"start\" x=\"153.5654\" y=\"-148.8\" font-family=\"Helvetica,sans-Serif\" font-size=\"14.00\" fill=\"#000000\">gini = 0.44</text>\n",
       "<text text-anchor=\"start\" x=\"140.3413\" y=\"-134.8\" font-family=\"Helvetica,sans-Serif\" font-size=\"14.00\" fill=\"#000000\">samples = 239</text>\n",
       "<text text-anchor=\"start\" x=\"134.1069\" y=\"-120.8\" font-family=\"Helvetica,sans-Serif\" font-size=\"14.00\" fill=\"#000000\">value = [78, 161]</text>\n",
       "<text text-anchor=\"start\" x=\"149.6826\" y=\"-106.8\" font-family=\"Helvetica,sans-Serif\" font-size=\"14.00\" fill=\"#000000\">class = Bad</text>\n",
       "</g>\n",
       "<!-- 1&#45;&gt;2 -->\n",
       "<g id=\"edge2\" class=\"edge\">\n",
       "<title>1&#45;&gt;2</title>\n",
       "<path fill=\"none\" stroke=\"#000000\" d=\"M348.2072,-220.7893C319.2257,-206.1703 284.8879,-188.8495 255.2896,-173.9194\"/>\n",
       "<polygon fill=\"#000000\" stroke=\"#000000\" points=\"256.772,-170.7471 246.2673,-169.3683 253.6194,-176.997 256.772,-170.7471\"/>\n",
       "</g>\n",
       "<!-- 5 -->\n",
       "<g id=\"node6\" class=\"node\">\n",
       "<title>5</title>\n",
       "<path fill=\"#e58139\" fill-opacity=\"0.168627\" stroke=\"#000000\" d=\"M514.7149,-178C514.7149,-178 309.4121,-178 309.4121,-178 303.4121,-178 297.4121,-172 297.4121,-166 297.4121,-166 297.4121,-112 297.4121,-112 297.4121,-106 303.4121,-100 309.4121,-100 309.4121,-100 514.7149,-100 514.7149,-100 520.7149,-100 526.7149,-106 526.7149,-112 526.7149,-112 526.7149,-166 526.7149,-166 526.7149,-172 520.7149,-178 514.7149,-178\"/>\n",
       "<text text-anchor=\"start\" x=\"305.4878\" y=\"-162.8\" font-family=\"Helvetica,sans-Serif\" font-size=\"14.00\" fill=\"#000000\">SavingsAccountBonds.lt.100 ≤ 0.5</text>\n",
       "<text text-anchor=\"start\" x=\"375.6724\" y=\"-148.8\" font-family=\"Helvetica,sans-Serif\" font-size=\"14.00\" fill=\"#000000\">gini = 0.496</text>\n",
       "<text text-anchor=\"start\" x=\"366.3413\" y=\"-134.8\" font-family=\"Helvetica,sans-Serif\" font-size=\"14.00\" fill=\"#000000\">samples = 185</text>\n",
       "<text text-anchor=\"start\" x=\"360.1069\" y=\"-120.8\" font-family=\"Helvetica,sans-Serif\" font-size=\"14.00\" fill=\"#000000\">value = [101, 84]</text>\n",
       "<text text-anchor=\"start\" x=\"371.0137\" y=\"-106.8\" font-family=\"Helvetica,sans-Serif\" font-size=\"14.00\" fill=\"#000000\">class = Good</text>\n",
       "</g>\n",
       "<!-- 1&#45;&gt;5 -->\n",
       "<g id=\"edge5\" class=\"edge\">\n",
       "<title>1&#45;&gt;5</title>\n",
       "<path fill=\"none\" stroke=\"#000000\" d=\"M412.0635,-213.7677C412.0635,-205.6172 412.0635,-196.9283 412.0635,-188.4649\"/>\n",
       "<polygon fill=\"#000000\" stroke=\"#000000\" points=\"415.5636,-188.3046 412.0635,-178.3046 408.5636,-188.3047 415.5636,-188.3046\"/>\n",
       "</g>\n",
       "<!-- 3 -->\n",
       "<g id=\"node4\" class=\"node\">\n",
       "<title>3</title>\n",
       "<path fill=\"#399de5\" fill-opacity=\"0.329412\" stroke=\"#000000\" d=\"M100.1905,-64C100.1905,-64 11.9365,-64 11.9365,-64 5.9365,-64 -.0635,-58 -.0635,-52 -.0635,-52 -.0635,-12 -.0635,-12 -.0635,-6 5.9365,0 11.9365,0 11.9365,0 100.1905,0 100.1905,0 106.1905,0 112.1905,-6 112.1905,-12 112.1905,-12 112.1905,-52 112.1905,-52 112.1905,-58 106.1905,-64 100.1905,-64\"/>\n",
       "<text text-anchor=\"start\" x=\"19.6724\" y=\"-48.8\" font-family=\"Helvetica,sans-Serif\" font-size=\"14.00\" fill=\"#000000\">gini = 0.481</text>\n",
       "<text text-anchor=\"start\" x=\"10.3413\" y=\"-34.8\" font-family=\"Helvetica,sans-Serif\" font-size=\"14.00\" fill=\"#000000\">samples = 137</text>\n",
       "<text text-anchor=\"start\" x=\"8\" y=\"-20.8\" font-family=\"Helvetica,sans-Serif\" font-size=\"14.00\" fill=\"#000000\">value = [55, 82]</text>\n",
       "<text text-anchor=\"start\" x=\"19.6826\" y=\"-6.8\" font-family=\"Helvetica,sans-Serif\" font-size=\"14.00\" fill=\"#000000\">class = Bad</text>\n",
       "</g>\n",
       "<!-- 2&#45;&gt;3 -->\n",
       "<g id=\"edge3\" class=\"edge\">\n",
       "<title>2&#45;&gt;3</title>\n",
       "<path fill=\"none\" stroke=\"#000000\" d=\"M138.3945,-99.7647C126.8544,-90.2664 114.5282,-80.121 103.0212,-70.6498\"/>\n",
       "<polygon fill=\"#000000\" stroke=\"#000000\" points=\"105.1508,-67.8695 95.2055,-64.2169 100.7023,-73.2743 105.1508,-67.8695\"/>\n",
       "</g>\n",
       "<!-- 4 -->\n",
       "<g id=\"node5\" class=\"node\">\n",
       "<title>4</title>\n",
       "<path fill=\"#399de5\" fill-opacity=\"0.709804\" stroke=\"#000000\" d=\"M230.1905,-64C230.1905,-64 141.9365,-64 141.9365,-64 135.9365,-64 129.9365,-58 129.9365,-52 129.9365,-52 129.9365,-12 129.9365,-12 129.9365,-6 135.9365,0 141.9365,0 141.9365,0 230.1905,0 230.1905,0 236.1905,0 242.1905,-6 242.1905,-12 242.1905,-12 242.1905,-52 242.1905,-52 242.1905,-58 236.1905,-64 230.1905,-64\"/>\n",
       "<text text-anchor=\"start\" x=\"149.6724\" y=\"-48.8\" font-family=\"Helvetica,sans-Serif\" font-size=\"14.00\" fill=\"#000000\">gini = 0.349</text>\n",
       "<text text-anchor=\"start\" x=\"140.3413\" y=\"-34.8\" font-family=\"Helvetica,sans-Serif\" font-size=\"14.00\" fill=\"#000000\">samples = 102</text>\n",
       "<text text-anchor=\"start\" x=\"138\" y=\"-20.8\" font-family=\"Helvetica,sans-Serif\" font-size=\"14.00\" fill=\"#000000\">value = [23, 79]</text>\n",
       "<text text-anchor=\"start\" x=\"149.6826\" y=\"-6.8\" font-family=\"Helvetica,sans-Serif\" font-size=\"14.00\" fill=\"#000000\">class = Bad</text>\n",
       "</g>\n",
       "<!-- 2&#45;&gt;4 -->\n",
       "<g id=\"edge4\" class=\"edge\">\n",
       "<title>2&#45;&gt;4</title>\n",
       "<path fill=\"none\" stroke=\"#000000\" d=\"M186.0635,-99.7647C186.0635,-91.4537 186.0635,-82.6472 186.0635,-74.2305\"/>\n",
       "<polygon fill=\"#000000\" stroke=\"#000000\" points=\"189.5636,-74.2168 186.0635,-64.2169 182.5636,-74.2169 189.5636,-74.2168\"/>\n",
       "</g>\n",
       "<!-- 6 -->\n",
       "<g id=\"node7\" class=\"node\">\n",
       "<title>6</title>\n",
       "<path fill=\"#399de5\" fill-opacity=\"0.360784\" stroke=\"#000000\" d=\"M360.1905,-64C360.1905,-64 271.9365,-64 271.9365,-64 265.9365,-64 259.9365,-58 259.9365,-52 259.9365,-52 259.9365,-12 259.9365,-12 259.9365,-6 265.9365,0 271.9365,0 271.9365,0 360.1905,0 360.1905,0 366.1905,0 372.1905,-6 372.1905,-12 372.1905,-12 372.1905,-52 372.1905,-52 372.1905,-58 366.1905,-64 360.1905,-64\"/>\n",
       "<text text-anchor=\"start\" x=\"279.6724\" y=\"-48.8\" font-family=\"Helvetica,sans-Serif\" font-size=\"14.00\" fill=\"#000000\">gini = 0.476</text>\n",
       "<text text-anchor=\"start\" x=\"274.2344\" y=\"-34.8\" font-family=\"Helvetica,sans-Serif\" font-size=\"14.00\" fill=\"#000000\">samples = 64</text>\n",
       "<text text-anchor=\"start\" x=\"268\" y=\"-20.8\" font-family=\"Helvetica,sans-Serif\" font-size=\"14.00\" fill=\"#000000\">value = [25, 39]</text>\n",
       "<text text-anchor=\"start\" x=\"279.6826\" y=\"-6.8\" font-family=\"Helvetica,sans-Serif\" font-size=\"14.00\" fill=\"#000000\">class = Bad</text>\n",
       "</g>\n",
       "<!-- 5&#45;&gt;6 -->\n",
       "<g id=\"edge6\" class=\"edge\">\n",
       "<title>5&#45;&gt;6</title>\n",
       "<path fill=\"none\" stroke=\"#000000\" d=\"M376.8617,-99.7647C368.6676,-90.6317 359.9368,-80.9004 351.7231,-71.7456\"/>\n",
       "<polygon fill=\"#000000\" stroke=\"#000000\" points=\"354.2516,-69.3229 344.9683,-64.2169 349.0413,-73.9976 354.2516,-69.3229\"/>\n",
       "</g>\n",
       "<!-- 7 -->\n",
       "<g id=\"node8\" class=\"node\">\n",
       "<title>7</title>\n",
       "<path fill=\"#e58139\" fill-opacity=\"0.407843\" stroke=\"#000000\" d=\"M490.1905,-64C490.1905,-64 401.9365,-64 401.9365,-64 395.9365,-64 389.9365,-58 389.9365,-52 389.9365,-52 389.9365,-12 389.9365,-12 389.9365,-6 395.9365,0 401.9365,0 401.9365,0 490.1905,0 490.1905,0 496.1905,0 502.1905,-6 502.1905,-12 502.1905,-12 502.1905,-52 502.1905,-52 502.1905,-58 496.1905,-64 490.1905,-64\"/>\n",
       "<text text-anchor=\"start\" x=\"409.6724\" y=\"-48.8\" font-family=\"Helvetica,sans-Serif\" font-size=\"14.00\" fill=\"#000000\">gini = 0.467</text>\n",
       "<text text-anchor=\"start\" x=\"400.3413\" y=\"-34.8\" font-family=\"Helvetica,sans-Serif\" font-size=\"14.00\" fill=\"#000000\">samples = 121</text>\n",
       "<text text-anchor=\"start\" x=\"398\" y=\"-20.8\" font-family=\"Helvetica,sans-Serif\" font-size=\"14.00\" fill=\"#000000\">value = [76, 45]</text>\n",
       "<text text-anchor=\"start\" x=\"405.0137\" y=\"-6.8\" font-family=\"Helvetica,sans-Serif\" font-size=\"14.00\" fill=\"#000000\">class = Good</text>\n",
       "</g>\n",
       "<!-- 5&#45;&gt;7 -->\n",
       "<g id=\"edge7\" class=\"edge\">\n",
       "<title>5&#45;&gt;7</title>\n",
       "<path fill=\"none\" stroke=\"#000000\" d=\"M424.5308,-99.7647C427.2007,-91.3624 430.0315,-82.4536 432.7326,-73.9532\"/>\n",
       "<polygon fill=\"#000000\" stroke=\"#000000\" points=\"436.1336,-74.8073 435.8263,-64.2169 429.4623,-72.6874 436.1336,-74.8073\"/>\n",
       "</g>\n",
       "<!-- 9 -->\n",
       "<g id=\"node10\" class=\"node\">\n",
       "<title>9</title>\n",
       "<path fill=\"#399de5\" fill-opacity=\"0.576471\" stroke=\"#000000\" d=\"M688.1905,-178C688.1905,-178 599.9365,-178 599.9365,-178 593.9365,-178 587.9365,-172 587.9365,-166 587.9365,-166 587.9365,-112 587.9365,-112 587.9365,-106 593.9365,-100 599.9365,-100 599.9365,-100 688.1905,-100 688.1905,-100 694.1905,-100 700.1905,-106 700.1905,-112 700.1905,-112 700.1905,-166 700.1905,-166 700.1905,-172 694.1905,-178 688.1905,-178\"/>\n",
       "<text text-anchor=\"start\" x=\"610.2529\" y=\"-162.8\" font-family=\"Helvetica,sans-Serif\" font-size=\"14.00\" fill=\"#000000\">Age ≤ 25.5</text>\n",
       "<text text-anchor=\"start\" x=\"607.6724\" y=\"-148.8\" font-family=\"Helvetica,sans-Serif\" font-size=\"14.00\" fill=\"#000000\">gini = 0.418</text>\n",
       "<text text-anchor=\"start\" x=\"602.2344\" y=\"-134.8\" font-family=\"Helvetica,sans-Serif\" font-size=\"14.00\" fill=\"#000000\">samples = 47</text>\n",
       "<text text-anchor=\"start\" x=\"596\" y=\"-120.8\" font-family=\"Helvetica,sans-Serif\" font-size=\"14.00\" fill=\"#000000\">value = [14, 33]</text>\n",
       "<text text-anchor=\"start\" x=\"607.6826\" y=\"-106.8\" font-family=\"Helvetica,sans-Serif\" font-size=\"14.00\" fill=\"#000000\">class = Bad</text>\n",
       "</g>\n",
       "<!-- 8&#45;&gt;9 -->\n",
       "<g id=\"edge9\" class=\"edge\">\n",
       "<title>8&#45;&gt;9</title>\n",
       "<path fill=\"none\" stroke=\"#000000\" d=\"M644.0635,-213.7677C644.0635,-205.6172 644.0635,-196.9283 644.0635,-188.4649\"/>\n",
       "<polygon fill=\"#000000\" stroke=\"#000000\" points=\"647.5636,-188.3046 644.0635,-178.3046 640.5636,-188.3047 647.5636,-188.3046\"/>\n",
       "</g>\n",
       "<!-- 12 -->\n",
       "<g id=\"node13\" class=\"node\">\n",
       "<title>12</title>\n",
       "<path fill=\"#399de5\" fill-opacity=\"0.898039\" stroke=\"#000000\" d=\"M862.9766,-178C862.9766,-178 767.1504,-178 767.1504,-178 761.1504,-178 755.1504,-172 755.1504,-166 755.1504,-166 755.1504,-112 755.1504,-112 755.1504,-106 761.1504,-100 767.1504,-100 767.1504,-100 862.9766,-100 862.9766,-100 868.9766,-100 874.9766,-106 874.9766,-112 874.9766,-112 874.9766,-166 874.9766,-166 874.9766,-172 868.9766,-178 862.9766,-178\"/>\n",
       "<text text-anchor=\"start\" x=\"781.2529\" y=\"-162.8\" font-family=\"Helvetica,sans-Serif\" font-size=\"14.00\" fill=\"#000000\">Age ≤ 19.5</text>\n",
       "<text text-anchor=\"start\" x=\"778.6724\" y=\"-148.8\" font-family=\"Helvetica,sans-Serif\" font-size=\"14.00\" fill=\"#000000\">gini = 0.167</text>\n",
       "<text text-anchor=\"start\" x=\"769.3413\" y=\"-134.8\" font-family=\"Helvetica,sans-Serif\" font-size=\"14.00\" fill=\"#000000\">samples = 229</text>\n",
       "<text text-anchor=\"start\" x=\"763.1069\" y=\"-120.8\" font-family=\"Helvetica,sans-Serif\" font-size=\"14.00\" fill=\"#000000\">value = [21, 208]</text>\n",
       "<text text-anchor=\"start\" x=\"778.6826\" y=\"-106.8\" font-family=\"Helvetica,sans-Serif\" font-size=\"14.00\" fill=\"#000000\">class = Bad</text>\n",
       "</g>\n",
       "<!-- 8&#45;&gt;12 -->\n",
       "<g id=\"edge12\" class=\"edge\">\n",
       "<title>8&#45;&gt;12</title>\n",
       "<path fill=\"none\" stroke=\"#000000\" d=\"M702.912,-213.7677C717.368,-204.1303 732.9534,-193.7401 747.7733,-183.8601\"/>\n",
       "<polygon fill=\"#000000\" stroke=\"#000000\" points=\"750.0172,-186.5707 756.3963,-178.1115 746.1343,-180.7463 750.0172,-186.5707\"/>\n",
       "</g>\n",
       "<!-- 10 -->\n",
       "<g id=\"node11\" class=\"node\">\n",
       "<title>10</title>\n",
       "<path fill=\"#e58139\" fill-opacity=\"0.666667\" stroke=\"#000000\" d=\"M606.1631,-64C606.1631,-64 531.9638,-64 531.9638,-64 525.9638,-64 519.9638,-58 519.9638,-52 519.9638,-52 519.9638,-12 519.9638,-12 519.9638,-6 525.9638,0 531.9638,0 531.9638,0 606.1631,0 606.1631,0 612.1631,0 618.1631,-6 618.1631,-12 618.1631,-12 618.1631,-52 618.1631,-52 618.1631,-58 612.1631,-64 606.1631,-64\"/>\n",
       "<text text-anchor=\"start\" x=\"532.6724\" y=\"-48.8\" font-family=\"Helvetica,sans-Serif\" font-size=\"14.00\" fill=\"#000000\">gini = 0.375</text>\n",
       "<text text-anchor=\"start\" x=\"531.1274\" y=\"-34.8\" font-family=\"Helvetica,sans-Serif\" font-size=\"14.00\" fill=\"#000000\">samples = 4</text>\n",
       "<text text-anchor=\"start\" x=\"528.7861\" y=\"-20.8\" font-family=\"Helvetica,sans-Serif\" font-size=\"14.00\" fill=\"#000000\">value = [3, 1]</text>\n",
       "<text text-anchor=\"start\" x=\"528.0137\" y=\"-6.8\" font-family=\"Helvetica,sans-Serif\" font-size=\"14.00\" fill=\"#000000\">class = Good</text>\n",
       "</g>\n",
       "<!-- 9&#45;&gt;10 -->\n",
       "<g id=\"edge10\" class=\"edge\">\n",
       "<title>9&#45;&gt;10</title>\n",
       "<path fill=\"none\" stroke=\"#000000\" d=\"M616.5621,-99.7647C610.3525,-90.9057 603.7484,-81.4838 597.5011,-72.571\"/>\n",
       "<polygon fill=\"#000000\" stroke=\"#000000\" points=\"600.2513,-70.3967 591.6454,-64.2169 594.5191,-74.4145 600.2513,-70.3967\"/>\n",
       "</g>\n",
       "<!-- 11 -->\n",
       "<g id=\"node12\" class=\"node\">\n",
       "<title>11</title>\n",
       "<path fill=\"#399de5\" fill-opacity=\"0.654902\" stroke=\"#000000\" d=\"M735.6582,-64C735.6582,-64 648.4687,-64 648.4687,-64 642.4687,-64 636.4687,-58 636.4687,-52 636.4687,-52 636.4687,-12 636.4687,-12 636.4687,-6 642.4687,0 648.4687,0 648.4687,0 735.6582,0 735.6582,0 741.6582,0 747.6582,-6 747.6582,-12 747.6582,-12 747.6582,-52 747.6582,-52 747.6582,-58 741.6582,-64 735.6582,-64\"/>\n",
       "<text text-anchor=\"start\" x=\"655.6724\" y=\"-48.8\" font-family=\"Helvetica,sans-Serif\" font-size=\"14.00\" fill=\"#000000\">gini = 0.381</text>\n",
       "<text text-anchor=\"start\" x=\"650.2344\" y=\"-34.8\" font-family=\"Helvetica,sans-Serif\" font-size=\"14.00\" fill=\"#000000\">samples = 43</text>\n",
       "<text text-anchor=\"start\" x=\"644.5161\" y=\"-20.8\" font-family=\"Helvetica,sans-Serif\" font-size=\"14.00\" fill=\"#000000\">value = [11, 32]</text>\n",
       "<text text-anchor=\"start\" x=\"655.6826\" y=\"-6.8\" font-family=\"Helvetica,sans-Serif\" font-size=\"14.00\" fill=\"#000000\">class = Bad</text>\n",
       "</g>\n",
       "<!-- 9&#45;&gt;11 -->\n",
       "<g id=\"edge11\" class=\"edge\">\n",
       "<title>9&#45;&gt;11</title>\n",
       "<path fill=\"none\" stroke=\"#000000\" d=\"M661.6643,-99.7647C665.5156,-91.1797 669.6039,-82.066 673.4918,-73.3994\"/>\n",
       "<polygon fill=\"#000000\" stroke=\"#000000\" points=\"676.7114,-74.7735 677.611,-64.2169 670.3246,-71.9083 676.7114,-74.7735\"/>\n",
       "</g>\n",
       "<!-- 13 -->\n",
       "<g id=\"node14\" class=\"node\">\n",
       "<title>13</title>\n",
       "<path fill=\"#e58139\" stroke=\"#000000\" d=\"M852.1631,-64C852.1631,-64 777.9638,-64 777.9638,-64 771.9638,-64 765.9638,-58 765.9638,-52 765.9638,-52 765.9638,-12 765.9638,-12 765.9638,-6 771.9638,0 777.9638,0 777.9638,0 852.1631,0 852.1631,0 858.1631,0 864.1631,-6 864.1631,-12 864.1631,-12 864.1631,-52 864.1631,-52 864.1631,-58 858.1631,-64 852.1631,-64\"/>\n",
       "<text text-anchor=\"start\" x=\"786.4585\" y=\"-48.8\" font-family=\"Helvetica,sans-Serif\" font-size=\"14.00\" fill=\"#000000\">gini = 0.0</text>\n",
       "<text text-anchor=\"start\" x=\"777.1274\" y=\"-34.8\" font-family=\"Helvetica,sans-Serif\" font-size=\"14.00\" fill=\"#000000\">samples = 1</text>\n",
       "<text text-anchor=\"start\" x=\"774.7861\" y=\"-20.8\" font-family=\"Helvetica,sans-Serif\" font-size=\"14.00\" fill=\"#000000\">value = [1, 0]</text>\n",
       "<text text-anchor=\"start\" x=\"774.0137\" y=\"-6.8\" font-family=\"Helvetica,sans-Serif\" font-size=\"14.00\" fill=\"#000000\">class = Good</text>\n",
       "</g>\n",
       "<!-- 12&#45;&gt;13 -->\n",
       "<g id=\"edge13\" class=\"edge\">\n",
       "<title>12&#45;&gt;13</title>\n",
       "<path fill=\"none\" stroke=\"#000000\" d=\"M815.0635,-99.7647C815.0635,-91.4537 815.0635,-82.6472 815.0635,-74.2305\"/>\n",
       "<polygon fill=\"#000000\" stroke=\"#000000\" points=\"818.5636,-74.2168 815.0635,-64.2169 811.5636,-74.2169 818.5636,-74.2168\"/>\n",
       "</g>\n",
       "<!-- 14 -->\n",
       "<g id=\"node15\" class=\"node\">\n",
       "<title>14</title>\n",
       "<path fill=\"#399de5\" fill-opacity=\"0.901961\" stroke=\"#000000\" d=\"M989.9766,-64C989.9766,-64 894.1504,-64 894.1504,-64 888.1504,-64 882.1504,-58 882.1504,-52 882.1504,-52 882.1504,-12 882.1504,-12 882.1504,-6 888.1504,0 894.1504,0 894.1504,0 989.9766,0 989.9766,0 995.9766,0 1001.9766,-6 1001.9766,-12 1001.9766,-12 1001.9766,-52 1001.9766,-52 1001.9766,-58 995.9766,-64 989.9766,-64\"/>\n",
       "<text text-anchor=\"start\" x=\"909.5654\" y=\"-48.8\" font-family=\"Helvetica,sans-Serif\" font-size=\"14.00\" fill=\"#000000\">gini = 0.16</text>\n",
       "<text text-anchor=\"start\" x=\"896.3413\" y=\"-34.8\" font-family=\"Helvetica,sans-Serif\" font-size=\"14.00\" fill=\"#000000\">samples = 228</text>\n",
       "<text text-anchor=\"start\" x=\"890.1069\" y=\"-20.8\" font-family=\"Helvetica,sans-Serif\" font-size=\"14.00\" fill=\"#000000\">value = [20, 208]</text>\n",
       "<text text-anchor=\"start\" x=\"905.6826\" y=\"-6.8\" font-family=\"Helvetica,sans-Serif\" font-size=\"14.00\" fill=\"#000000\">class = Bad</text>\n",
       "</g>\n",
       "<!-- 12&#45;&gt;14 -->\n",
       "<g id=\"edge14\" class=\"edge\">\n",
       "<title>12&#45;&gt;14</title>\n",
       "<path fill=\"none\" stroke=\"#000000\" d=\"M861.6324,-99.7647C872.7977,-90.3577 884.7164,-80.316 895.8649,-70.9232\"/>\n",
       "<polygon fill=\"#000000\" stroke=\"#000000\" points=\"898.4323,-73.3368 903.8248,-64.2169 893.922,-67.9835 898.4323,-73.3368\"/>\n",
       "</g>\n",
       "</g>\n",
       "</svg>\n"
      ],
      "text/plain": [
       "<graphviz.files.Source at 0x11a678ac8>"
      ]
     },
     "execution_count": 113,
     "metadata": {},
     "output_type": "execute_result"
    }
   ],
   "source": [
    "import graphviz \n",
    "feature_names = c.columns\n",
    "target_names = ['Good','Bad']\n",
    "dot_data = tree.export_graphviz(clf, out_file=None) \n",
    "graph = graphviz.Source(dot_data) \n",
    "graph.render(\"credit\") \n",
    "dot_data = tree.export_graphviz(clf, out_file=None, \n",
    "                      feature_names=feature_names,  \n",
    "                      class_names=target_names,  \n",
    "                      filled=True, rounded=True,  \n",
    "                      special_characters=True)  \n",
    "graph = graphviz.Source(dot_data)  \n",
    "graph "
   ]
  },
  {
   "cell_type": "markdown",
   "metadata": {},
   "source": [
    "Rememeber that amazing blog post from a few paragraphs ago, that demonstrated how to visualize and interpret the results of your Decision Tree model. We've seen that this can perform very well, but let's see how it does on the \"German Credit\" dataset that we're working on, due to it being a bit larger than the one used by the blog authors."
   ]
  },
  {
   "cell_type": "markdown",
   "metadata": {},
   "source": [
    "First, we're going to need to install their package. If you're using Anaconda, this can be done easily by running:"
   ]
  },
  {
   "cell_type": "code",
   "execution_count": 2,
   "metadata": {},
   "outputs": [
    {
     "name": "stdout",
     "output_type": "stream",
     "text": [
      "Collecting dtreeviz\n",
      "  Downloading https://files.pythonhosted.org/packages/27/62/c66ae7d65510ebda8f4d126ebcf7d1171cec22e47196197a28667c2ccfa0/dtreeviz-0.3.3.tar.gz\n",
      "\u001b[31mdtreeviz requires Python '>=3.6' but the running Python is 3.5.0\u001b[0m\n",
      "\u001b[33mYou are using pip version 19.0.3, however version 19.1.1 is available.\n",
      "You should consider upgrading via the 'pip install --upgrade pip' command.\u001b[0m\n"
     ]
    }
   ],
   "source": [
    "! pip install dtreeviz"
   ]
  },
  {
   "cell_type": "markdown",
   "metadata": {},
   "source": [
    "If for any reason this way of installing doesn't work for you straight out of the box, please refer to the more detailed documentation here: https://github.com/parrt/dtreeviz"
   ]
  },
  {
   "cell_type": "markdown",
   "metadata": {},
   "source": [
    "Now you're ready to visualize your Decision Tree model! Please feel free to use the blog post for guidance and inspiration!"
   ]
  },
  {
   "cell_type": "code",
   "execution_count": null,
   "metadata": {},
   "outputs": [],
   "source": [
    "# Your code here! :)"
   ]
  },
  {
   "cell_type": "markdown",
   "metadata": {},
   "source": [
    "## Random Forests"
   ]
  },
  {
   "cell_type": "markdown",
   "metadata": {},
   "source": [
    "As discussed in the lecture videos, Decision Tree algorithms also have certain undesireable properties. Mainly the have low bias, which is good, but tend to have high variance - which is *not* so good (more about this problem here: https://en.wikipedia.org/wiki/Bias%E2%80%93variance_tradeoff)."
   ]
  },
  {
   "cell_type": "markdown",
   "metadata": {},
   "source": [
    "Noticing these problems, the late Professor Leo Breiman, in 2001, developed the Random Forests algorithm, which mitigates these problems, while at the same time providing even higher predictive accuracy than the majority of Decision Tree algorithm implementations. While the curriculum contains two excellent lectures on Random Forests, if you're interested, you can dive into the original paper here: https://link.springer.com/content/pdf/10.1023%2FA%3A1010933404324.pdf."
   ]
  },
  {
   "cell_type": "markdown",
   "metadata": {},
   "source": [
    "In the next part of this assignment, your are going to use the same \"German Credit\" dataset to train, tune, and measure the performance of a Random Forests model. You will also see certain functionalities that this model, even though it's a bit of a \"black box\", provides for some degree of interpretability."
   ]
  },
  {
   "cell_type": "markdown",
   "metadata": {},
   "source": [
    "First, let's build a Random Forests model, using the same best practices that you've used for your Decision Trees model. You can reuse the things you've already imported there, so no need to do any re-imports, new train/test splits, or loading up the data again."
   ]
  },
  {
   "cell_type": "code",
   "execution_count": 80,
   "metadata": {},
   "outputs": [],
   "source": [
    "from sklearn.ensemble import RandomForestClassifier"
   ]
  },
  {
   "cell_type": "code",
   "execution_count": 125,
   "metadata": {},
   "outputs": [
    {
     "data": {
      "text/plain": [
       "RandomForestClassifier(bootstrap=True, class_weight=None, criterion='gini',\n",
       "            max_depth=7, max_features='auto', max_leaf_nodes=None,\n",
       "            min_impurity_decrease=0.0, min_impurity_split=None,\n",
       "            min_samples_leaf=1, min_samples_split=2,\n",
       "            min_weight_fraction_leaf=0.0, n_estimators=100, n_jobs=None,\n",
       "            oob_score=False, random_state=0, verbose=0, warm_start=False)"
      ]
     },
     "execution_count": 125,
     "metadata": {},
     "output_type": "execute_result"
    }
   ],
   "source": [
    "# Your code here! :)\n",
    "clfrfc = RandomForestClassifier(n_estimators=100, max_depth=7,\n",
    "                              random_state=0)\n",
    "clfrfc.fit(Xtrain, Ytrain)  "
   ]
  },
  {
   "cell_type": "code",
   "execution_count": 126,
   "metadata": {},
   "outputs": [
    {
     "data": {
      "text/plain": [
       "0.7633333333333333"
      ]
     },
     "execution_count": 126,
     "metadata": {},
     "output_type": "execute_result"
    }
   ],
   "source": [
    "clfrfc.score(Xtest,Ytest)"
   ]
  },
  {
   "cell_type": "code",
   "execution_count": 127,
   "metadata": {},
   "outputs": [
    {
     "name": "stdout",
     "output_type": "stream",
     "text": [
      "25\n"
     ]
    }
   ],
   "source": [
    "print(len(feature_names))"
   ]
  },
  {
   "cell_type": "markdown",
   "metadata": {},
   "source": [
    "As mentioned, there are certain ways to \"peek\" into a model created by the Random Forests algorithm. The first, and most popular one, is the Feature Importance calculation functionality. This allows the ML practitioner to see an ordering of the importance of the features that have contributed the most to the predictive accuracy of the model. \n",
    "\n",
    "You can see how to use this in the scikit-learn documentation (http://scikit-learn.org/stable/modules/generated/sklearn.ensemble.RandomForestClassifier.html#sklearn.ensemble.RandomForestClassifier.feature_importances_). Now, if you tried this, you would just get an ordered table of not directly interpretable numeric values. Thus, it's much more useful to show the feature importance in a visual way. You can see an example of how that's done here: http://scikit-learn.org/stable/auto_examples/ensemble/plot_forest_importances.html#sphx-glr-auto-examples-ensemble-plot-forest-importances-py\n",
    "\n",
    "Now you try! Let's visualize the importance of features from your Random Forests model!"
   ]
  },
  {
   "cell_type": "code",
   "execution_count": 128,
   "metadata": {},
   "outputs": [
    {
     "name": "stdout",
     "output_type": "stream",
     "text": [
      "Feature ranking:\n",
      "1. feature 1 (0.167009)\n",
      "2. feature 0 (0.120315)\n",
      "3. feature 6 (0.118111)\n",
      "4. feature 4 (0.109664)\n",
      "5. feature 5 (0.070754)\n",
      "6. feature 2 (0.055001)\n",
      "7. feature 12 (0.038511)\n",
      "8. feature 3 (0.036645)\n",
      "9. feature 23 (0.029398)\n",
      "10. feature 9 (0.022589)\n",
      "11. feature 13 (0.021815)\n",
      "12. feature 10 (0.020789)\n",
      "13. feature 7 (0.019947)\n",
      "14. feature 24 (0.019114)\n",
      "15. feature 15 (0.018802)\n",
      "16. feature 14 (0.018599)\n",
      "17. feature 8 (0.018435)\n",
      "18. feature 18 (0.017148)\n",
      "19. feature 22 (0.016616)\n",
      "20. feature 16 (0.013470)\n",
      "21. feature 21 (0.012848)\n",
      "22. feature 20 (0.011972)\n",
      "23. feature 17 (0.008415)\n",
      "24. feature 19 (0.007019)\n",
      "25. feature 11 (0.007013)\n"
     ]
    },
    {
     "data": {
      "image/png": "[encoded data removed]",
      "text/plain": [
       "<Figure size 432x288 with 1 Axes>"
      ]
     },
     "metadata": {
      "needs_background": "light"
     },
     "output_type": "display_data"
    }
   ],
   "source": [
    "# Your code here\n",
    "import matplotlib.pyplot as plt\n",
    "import numpy as np\n",
    "from sklearn.datasets import make_classification\n",
    "from sklearn.ensemble import ExtraTreesClassifier\n",
    "\n",
    "\n",
    "importances = clfrfc.feature_importances_\n",
    "std = np.std([tree.feature_importances_ for tree in clfrfc.estimators_],\n",
    "             axis=0)\n",
    "indices = np.argsort(importances)[::-1]\n",
    "\n",
    "# Print the feature ranking\n",
    "print(\"Feature ranking:\")\n",
    "\n",
    "for f in range(Xtrain.shape[1]):\n",
    "    print(\"%d. feature %d (%f)\" % (f + 1, indices[f], importances[indices[f]]))\n",
    "\n",
    "# Plot the feature importances of the forest\n",
    "plt.figure()\n",
    "plt.title(\"Feature importances\")\n",
    "plt.bar(range(Xtrain.shape[1]), importances[indices],\n",
    "       color=\"r\", yerr=std[indices], align=\"center\")\n",
    "plt.xticks(range(Xtrain.shape[1]), indices)\n",
    "plt.xlim([-1, Xtrain.shape[1]])\n",
    "plt.show()"
   ]
  },
  {
   "cell_type": "code",
   "execution_count": 129,
   "metadata": {},
   "outputs": [
    {
     "name": "stdout",
     "output_type": "stream",
     "text": [
      "Index(['Duration', 'Amount', 'InstallmentRatePercentage', 'ResidenceDuration',\n",
      "       'Age', 'CheckingAccountStatus.lt.0', 'CheckingAccountStatus.none',\n",
      "       'CreditHistory.ThisBank.AllPaid', 'CreditHistory.PaidDuly',\n",
      "       'Purpose.UsedCar', 'Purpose.Radio.Television', 'Purpose.Education',\n",
      "       'SavingsAccountBonds.lt.100', 'SavingsAccountBonds.Unknown',\n",
      "       'EmploymentDuration.lt.1', 'EmploymentDuration.1.to.4',\n",
      "       'EmploymentDuration.4.to.7', 'Personal.Male.Divorced.Seperated',\n",
      "       'Personal.Female.NotSingle', 'Personal.Male.Married.Widowed',\n",
      "       'OtherDebtorsGuarantors.None', 'OtherDebtorsGuarantors.CoApplicant',\n",
      "       'Property.Insurance', 'OtherInstallmentPlans.None',\n",
      "       'Job.SkilledEmployee'],\n",
      "      dtype='object')\n"
     ]
    },
    {
     "data": {
      "text/plain": [
       "array([0.12031545, 0.16700908, 0.0550007 , 0.03664508, 0.10966397,\n",
       "       0.07075427, 0.11811105, 0.01994663, 0.01843512, 0.02258919,\n",
       "       0.02078862, 0.00701323, 0.03851083, 0.02181506, 0.01859901,\n",
       "       0.0188019 , 0.01346999, 0.00841495, 0.01714845, 0.00701881,\n",
       "       0.01197212, 0.01284779, 0.01661647, 0.02939787, 0.01911434])"
      ]
     },
     "execution_count": 129,
     "metadata": {},
     "output_type": "execute_result"
    }
   ],
   "source": [
    "print(feature_names)\n",
    "clfrfc.feature_importances_"
   ]
  },
  {
   "cell_type": "markdown",
   "metadata": {},
   "source": [
    "A final method for gaining some insight into the inner working of your Random Forests models is a so-called Partial Dependence Plot. The Partial Dependence Plot (PDP or PD plot) shows the marginal effect of a feature on the predicted outcome of a previously fit model. The prediction function is fixed at a few values of the chosen features and averaged over the other features. A partial dependence plot can show if the relationship between the target and a feature is linear, monotonic or more complex. \n",
    "\n",
    "In scikit-learn, PDPs are implemented and available for certain algorithms, but at this point (version 0.20.0) they are not yet implemented for Random Forests. Thankfully, there is an add-on package called **PDPbox** (https://pdpbox.readthedocs.io/en/latest/) which adds this functionality to Random Forests. The package is easy to install through pip."
   ]
  },
  {
   "cell_type": "code",
   "execution_count": 91,
   "metadata": {},
   "outputs": [
    {
     "name": "stdout",
     "output_type": "stream",
     "text": [
      "Collecting pdpbox\n",
      "\u001b[?25l  Downloading https://files.pythonhosted.org/packages/87/23/ac7da5ba1c6c03a87c412e7e7b6e91a10d6ecf4474906c3e736f93940d49/PDPbox-0.2.0.tar.gz (57.7MB)\n",
      "\u001b[K    100% |████████████████████████████████| 57.7MB 327kB/s eta 0:00:01    39% |████████████▌                   | 22.6MB 9.5MB/s eta 0:00:04    80% |██████████████████████████      | 46.7MB 1.1MB/s eta 0:00:11\n",
      "\u001b[?25hRequirement already satisfied: pandas in /Users/bryanmckinney/miniconda3/lib/python3.5/site-packages (from pdpbox) (0.23.4)\n",
      "Requirement already satisfied: numpy in /Users/bryanmckinney/miniconda3/lib/python3.5/site-packages (from pdpbox) (1.15.4)\n",
      "Requirement already satisfied: scipy in /Users/bryanmckinney/miniconda3/lib/python3.5/site-packages (from pdpbox) (1.1.0)\n",
      "Requirement already satisfied: matplotlib>=2.1.2 in /Users/bryanmckinney/miniconda3/lib/python3.5/site-packages (from pdpbox) (3.0.2)\n",
      "Requirement already satisfied: joblib in /Users/bryanmckinney/miniconda3/lib/python3.5/site-packages (from pdpbox) (0.12.5)\n",
      "Collecting psutil (from pdpbox)\n",
      "\u001b[?25l  Downloading https://files.pythonhosted.org/packages/c6/c1/beed5e4eaa1345901b595048fab1c85aee647ea0fc02d9e8bf9aceb81078/psutil-5.6.2.tar.gz (432kB)\n",
      "\u001b[K    100% |████████████████████████████████| 440kB 8.9MB/s eta 0:00:01\n",
      "\u001b[?25hRequirement already satisfied: scikit-learn in /Users/bryanmckinney/miniconda3/lib/python3.5/site-packages (from pdpbox) (0.20.1)\n",
      "Requirement already satisfied: python-dateutil>=2.5.0 in /Users/bryanmckinney/miniconda3/lib/python3.5/site-packages (from pandas->pdpbox) (2.7.5)\n",
      "Requirement already satisfied: pytz>=2011k in /Users/bryanmckinney/miniconda3/lib/python3.5/site-packages (from pandas->pdpbox) (2018.7)\n",
      "Requirement already satisfied: kiwisolver>=1.0.1 in /Users/bryanmckinney/miniconda3/lib/python3.5/site-packages (from matplotlib>=2.1.2->pdpbox) (1.0.1)\n",
      "Requirement already satisfied: pyparsing!=2.0.4,!=2.1.2,!=2.1.6,>=2.0.1 in /Users/bryanmckinney/miniconda3/lib/python3.5/site-packages (from matplotlib>=2.1.2->pdpbox) (2.3.0)\n",
      "Requirement already satisfied: cycler>=0.10 in /Users/bryanmckinney/miniconda3/lib/python3.5/site-packages (from matplotlib>=2.1.2->pdpbox) (0.10.0)\n",
      "Requirement already satisfied: six>=1.5 in /Users/bryanmckinney/miniconda3/lib/python3.5/site-packages (from python-dateutil>=2.5.0->pandas->pdpbox) (1.11.0)\n",
      "Requirement already satisfied: setuptools in /Users/bryanmckinney/miniconda3/lib/python3.5/site-packages (from kiwisolver>=1.0.1->matplotlib>=2.1.2->pdpbox) (40.2.0)\n",
      "Building wheels for collected packages: pdpbox, psutil\n",
      "  Building wheel for pdpbox (setup.py) ... \u001b[?25ldone\n",
      "\u001b[?25h  Stored in directory: /Users/bryanmckinney/Library/Caches/pip/wheels/7d/08/51/63fd122b04a2c87d780464eeffb94867c75bd96a64d500a3fe\n",
      "  Building wheel for psutil (setup.py) ... \u001b[?25ldone\n",
      "\u001b[?25h  Stored in directory: /Users/bryanmckinney/Library/Caches/pip/wheels/17/08/ec/22b464874958c3fc91e1a75748fae2220eb704a8b1035f9a03\n",
      "Successfully built pdpbox psutil\n",
      "Installing collected packages: psutil, pdpbox\n",
      "\u001b[31mCould not install packages due to an EnvironmentError: [Errno 2] No such file or directory\n",
      "\u001b[0m\n",
      "\u001b[33mYou are using pip version 19.0.3, however version 19.1.1 is available.\n",
      "You should consider upgrading via the 'pip install --upgrade pip' command.\u001b[0m\n"
     ]
    }
   ],
   "source": [
    "! pip install pdpbox"
   ]
  },
  {
   "cell_type": "markdown",
   "metadata": {},
   "source": [
    "While we encourage you to read the documentation for the package (and reading package documentation in general is a good habit to develop), the authors of the package have also written an excellent blog post on how to use it, showing examples on different algorithms from scikit-learn (the Random Forests example is towards the end of the blog post): https://briangriner.github.io/Partial_Dependence_Plots_presentation-BrianGriner-PrincetonPublicLibrary-4.14.18-updated-4.22.18.html"
   ]
  },
  {
   "cell_type": "markdown",
   "metadata": {},
   "source": [
    "So, armed with this new knowledge, feel free to pick a few features, and make a couple of Partial Dependence Plots of your own!"
   ]
  },
  {
   "cell_type": "code",
   "execution_count": 130,
   "metadata": {},
   "outputs": [
    {
     "ename": "TypeError",
     "evalue": "pdp_interact() missing 1 required positional argument: 'features'",
     "output_type": "error",
     "traceback": [
      "\u001b[0;31m---------------------------------------------------------------------------\u001b[0m",
      "\u001b[0;31mTypeError\u001b[0m                                 Traceback (most recent call last)",
      "\u001b[0;32m<ipython-input-130-429c893e8c0c>\u001b[0m in \u001b[0;36m<module>\u001b[0;34m\u001b[0m\n\u001b[1;32m      3\u001b[0m \u001b[0;32mfrom\u001b[0m \u001b[0mpdpbox\u001b[0m \u001b[0;32mimport\u001b[0m \u001b[0mpdp\u001b[0m\u001b[0;34m\u001b[0m\u001b[0m\n\u001b[1;32m      4\u001b[0m \u001b[0mnames\u001b[0m \u001b[0;34m=\u001b[0m \u001b[0mfeature_names\u001b[0m\u001b[0;34m.\u001b[0m\u001b[0mvalues\u001b[0m\u001b[0;34m\u001b[0m\u001b[0m\n\u001b[0;32m----> 5\u001b[0;31m \u001b[0mpdp_pedi_insul\u001b[0m \u001b[0;34m=\u001b[0m \u001b[0mpdp\u001b[0m\u001b[0;34m.\u001b[0m\u001b[0mpdp_interact\u001b[0m\u001b[0;34m(\u001b[0m\u001b[0mclfrfc\u001b[0m\u001b[0;34m,\u001b[0m \u001b[0mc\u001b[0m\u001b[0;34m[\u001b[0m\u001b[0mnames\u001b[0m\u001b[0;34m]\u001b[0m\u001b[0;34m,\u001b[0m \u001b[0;34m[\u001b[0m\u001b[0;34m'Duration'\u001b[0m\u001b[0;34m,\u001b[0m\u001b[0;34m'Amount'\u001b[0m\u001b[0;34m]\u001b[0m\u001b[0;34m)\u001b[0m\u001b[0;34m\u001b[0m\u001b[0m\n\u001b[0m\u001b[1;32m      6\u001b[0m \u001b[0mpdp\u001b[0m\u001b[0;34m.\u001b[0m\u001b[0mpdp_interact_plot\u001b[0m\u001b[0;34m(\u001b[0m\u001b[0mpdp_pedi_insul\u001b[0m\u001b[0;34m,\u001b[0m \u001b[0;34m[\u001b[0m\u001b[0;34m'Duration'\u001b[0m\u001b[0;34m,\u001b[0m\u001b[0;34m'Amount'\u001b[0m\u001b[0;34m]\u001b[0m\u001b[0;34m,\u001b[0m \u001b[0mcenter\u001b[0m\u001b[0;34m=\u001b[0m\u001b[0;32mTrue\u001b[0m\u001b[0;34m,\u001b[0m \u001b[0mplot_org_pts\u001b[0m\u001b[0;34m=\u001b[0m\u001b[0;32mTrue\u001b[0m\u001b[0;34m,\u001b[0m \u001b[0mplot_lines\u001b[0m\u001b[0;34m=\u001b[0m\u001b[0;32mTrue\u001b[0m\u001b[0;34m,\u001b[0m \u001b[0mfrac_to_plot\u001b[0m\u001b[0;34m=\u001b[0m\u001b[0;36m0.5\u001b[0m\u001b[0;34m)\u001b[0m\u001b[0;34m\u001b[0m\u001b[0m\n",
      "\u001b[0;31mTypeError\u001b[0m: pdp_interact() missing 1 required positional argument: 'features'"
     ]
    }
   ],
   "source": [
    "# Your code here!\n",
    "import pdpbox\n",
    "from pdpbox import pdp\n",
    "names = feature_names.values\n",
    "pdp_pedi_insul = pdp.pdp_interact(clfrfc, c[names], ['Duration','Amount'])\n",
    "pdp.pdp_interact_plot(pdp_pedi_insul, ['Duration','Amount'], center=True, plot_org_pts=True, plot_lines=True, frac_to_plot=0.5)\n"
   ]
  },
  {
   "cell_type": "markdown",
   "metadata": {},
   "source": [
    "## (Optional) Advanced Boosting-Based Algorithms"
   ]
  },
  {
   "cell_type": "markdown",
   "metadata": {},
   "source": [
    "As explained in the video lectures, the next generation of algorithms after Random Forests (that use Bagging, a.k.a. Bootstrap Aggregation) were developed using Boosting, and the first one of these were Gradient Boosted Machines, which are implemented in scikit-learn (http://scikit-learn.org/stable/modules/ensemble.html#gradient-tree-boosting)."
   ]
  },
  {
   "cell_type": "markdown",
   "metadata": {},
   "source": [
    "Still, in recent years, a number of variations on GBMs have been developed by different research amd industry groups, all of them bringing improvements, both in speed, accuracy and functionality to the original Gradient Boosting algorithms.\n",
    "\n",
    "In no order of preference, these are:\n",
    "1. **XGBoost**: https://xgboost.readthedocs.io/en/latest/\n",
    "2. **CatBoost**: https://tech.yandex.com/catboost/\n",
    "3. **LightGBM**: https://lightgbm.readthedocs.io/en/latest/"
   ]
  },
  {
   "cell_type": "markdown",
   "metadata": {},
   "source": [
    "If you're using the Anaconda distribution, these are all very easy to install:"
   ]
  },
  {
   "cell_type": "code",
   "execution_count": null,
   "metadata": {},
   "outputs": [],
   "source": [
    "! conda install -c anaconda py-xgboost"
   ]
  },
  {
   "cell_type": "code",
   "execution_count": null,
   "metadata": {},
   "outputs": [],
   "source": [
    "! conda install -c conda-forge catboost"
   ]
  },
  {
   "cell_type": "code",
   "execution_count": null,
   "metadata": {},
   "outputs": [],
   "source": [
    "! conda install -c conda-forge lightgbm"
   ]
  },
  {
   "cell_type": "markdown",
   "metadata": {},
   "source": [
    "Your task in this optional section of the mini project is to read the documentation of these three libraries, and apply all of them to the \"German Credit\" dataset, just like you did in the case of Decision Trees and Random Forests."
   ]
  },
  {
   "cell_type": "markdown",
   "metadata": {},
   "source": [
    "The final deliverable of this section should be a table (can be a pandas DataFrame) which shows the accuracy of all the five algorthms taught in this mini project in one place."
   ]
  },
  {
   "cell_type": "markdown",
   "metadata": {},
   "source": [
    "Happy modeling! :)"
   ]
  },
  {
   "cell_type": "code",
   "execution_count": 143,
   "metadata": {},
   "outputs": [
    {
     "data": {
      "text/plain": [
       "0.7666666666666667"
      ]
     },
     "execution_count": 143,
     "metadata": {},
     "output_type": "execute_result"
    }
   ],
   "source": [
    "from sklearn.ensemble import GradientBoostingClassifier\n",
    "model = GradientBoostingClassifier(n_estimators=100, max_depth=4,learning_rate=0.1, loss='deviance',random_state=1)\n",
    "model.fit(Xtrain,Ytrain)\n",
    "model.score(Xtest,Ytest)"
   ]
  },
  {
   "cell_type": "code",
   "execution_count": null,
   "metadata": {},
   "outputs": [],
   "source": []
  }
 ],
 "metadata": {
  "kernelspec": {
   "display_name": "Python 3",
   "language": "python",
   "name": "python3"
  },
  "language_info": {
   "codemirror_mode": {
    "name": "ipython",
    "version": 3
   },
   "file_extension": ".py",
   "mimetype": "text/x-python",
   "name": "python",
   "nbconvert_exporter": "python",
   "pygments_lexer": "ipython3",
   "version": "3.5.0"
  }
 },
 "nbformat": 4,
 "nbformat_minor": 2
}
