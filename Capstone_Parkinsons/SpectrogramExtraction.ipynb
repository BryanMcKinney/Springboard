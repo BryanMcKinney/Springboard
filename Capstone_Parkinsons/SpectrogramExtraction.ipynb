{
 "cells": [
  {
   "cell_type": "code",
   "execution_count": 7,
   "metadata": {},
   "outputs": [],
   "source": [
    "#Audio into Spectrogram\n",
    "import glob\n",
    "import os\n",
    "import librosa\n",
    "import numpy as np\n",
    "import matplotlib.pyplot as plt\n",
    "import tensorflow as tf\n",
    "from matplotlib.pyplot import specgram\n",
    "import librosa.display"
   ]
  },
  {
   "cell_type": "code",
   "execution_count": 22,
   "metadata": {},
   "outputs": [],
   "source": [
    "import pylab\n",
    "save_path = 'spectrograms/MJF/Spec1.png'\n",
    "#pylab.axis('off') # no axis\n",
    "pylab.axes([0., 0., 1., 1.], frameon=False, xticks=[], yticks=[]) # Remove the white edge\n",
    "#S = librosa.feature.melspectrogram(y=sig, sr=fs)\n",
    "librosa.display.specshow(librosa.amplitude_to_db(S_foreground[:, idx], ref=np.max),\n",
    "                          sr=sr)\n",
    "\n",
    "pylab.savefig(save_path, bbox_inches=None, pad_inches=0)\n",
    "pylab.close()\n"
   ]
  },
  {
   "cell_type": "code",
   "execution_count": 39,
   "metadata": {},
   "outputs": [
    {
     "name": "stdout",
     "output_type": "stream",
     "text": [
      "['Letterman/hKzUVPnT40o6.wav', 'Letterman/DVK2GgfGMEY19.wav', 'Letterman/DVK2GgfGMEY31.wav', 'Letterman/DVK2GgfGMEY25.wav', 'Letterman/hKzUVPnT40o22.wav', 'Letterman/DVK2GgfGMEY24.wav', 'Letterman/DVK2GgfGMEY30.wav', 'Letterman/DVK2GgfGMEY18.wav', 'Letterman/hKzUVPnT40o7.wav', 'Letterman/hKzUVPnT40o5.wav', 'Letterman/DVK2GgfGMEY26.wav', 'Letterman/DVK2GgfGMEY32.wav', 'Letterman/hKzUVPnT40o20.wav', 'Letterman/3XoIDGs11kE5.wav', 'Letterman/3XoIDGs11kE4.wav', 'Letterman/hKzUVPnT40o21.wav', 'Letterman/DVK2GgfGMEY33.wav', 'Letterman/DVK2GgfGMEY27.wav', 'Letterman/hKzUVPnT40o4.wav', 'Letterman/DVK2GgfGMEY23.wav', 'Letterman/DVK2GgfGMEY37.wav', 'Letterman/hKzUVPnT40o19.wav', 'Letterman/3XoIDGs11kE0.wav', 'Letterman/3XoIDGs11kE1.wav', 'Letterman/hKzUVPnT40o18.wav', 'Letterman/DVK2GgfGMEY36.wav', 'Letterman/DVK2GgfGMEY22.wav', 'Letterman/hKzUVPnT40o3.wav', 'Letterman/DVK2GgfGMEY34.wav', 'Letterman/DVK2GgfGMEY20.wav', 'Letterman/3XoIDGs11kE3.wav', 'Letterman/3XoIDGs11kE2.wav', 'Letterman/DVK2GgfGMEY21.wav', 'Letterman/DVK2GgfGMEY35.wav', 'Letterman/hKzUVPnT40o2.wav', 'Letterman/3XoIDGs11kE12.wav', 'Letterman/DVK2GgfGMEY46.wav', 'Letterman/Z0HYF60U_Q83.wav', 'Letterman/DVK2GgfGMEY47.wav', 'Letterman/3XoIDGs11kE13.wav', 'Letterman/3XoIDGs11kE11.wav', 'Letterman/DVK2GgfGMEY45.wav', 'Letterman/DVK2GgfGMEY44.wav', 'Letterman/3XoIDGs11kE10.wav', 'Letterman/DVK2GgfGMEY7.wav', 'Letterman/DVK2GgfGMEY40.wav', 'Letterman/3XoIDGs11kE14.wav', 'Letterman/Z0HYF60U_Q85.wav', 'Letterman/Z0HYF60U_Q84.wav', 'Letterman/3XoIDGs11kE15.wav', 'Letterman/DVK2GgfGMEY41.wav', 'Letterman/DVK2GgfGMEY43.wav', 'Letterman/3XoIDGs11kE17.wav', 'Letterman/3XoIDGs11kE16.wav', 'Letterman/DVK2GgfGMEY42.wav', 'Letterman/DVK2GgfGMEY8.wav', 'Letterman/DVK2GgfGMEY9.wav', 'Letterman/DVK2GgfGMEY38.wav', 'Letterman/DVK2GgfGMEY10.wav', 'Letterman/hKzUVPnT40o16.wav', 'Letterman/hKzUVPnT40o17.wav', 'Letterman/DVK2GgfGMEY11.wav', 'Letterman/DVK2GgfGMEY39.wav', 'Letterman/DVK2GgfGMEY13.wav', 'Letterman/hKzUVPnT40o15.wav', 'Letterman/hKzUVPnT40o14.wav', 'Letterman/DVK2GgfGMEY12.wav', 'Letterman/hKzUVPnT40o9.wav', 'Letterman/DVK2GgfGMEY16.wav', 'Letterman/hKzUVPnT40o10.wav', 'Letterman/hKzUVPnT40o11.wav', 'Letterman/DVK2GgfGMEY17.wav', 'Letterman/hKzUVPnT40o8.wav', 'Letterman/DVK2GgfGMEY15.wav', 'Letterman/DVK2GgfGMEY29.wav', 'Letterman/hKzUVPnT40o13.wav', 'Letterman/hKzUVPnT40o12.wav', 'Letterman/DVK2GgfGMEY28.wav', 'Letterman/DVK2GgfGMEY14.wav']\n"
     ]
    }
   ],
   "source": [
    "wavfile = []\n",
    "for root, dirs, files in os.walk('Letterman'):\n",
    "    wavfile += glob.glob(os.path.join(root,'*.wav'))\n",
    "print(wavfile)"
   ]
  },
  {
   "cell_type": "code",
   "execution_count": 40,
   "metadata": {},
   "outputs": [],
   "source": [
    "for i in wavfile:\n",
    "    \n",
    "    y, sr = librosa.load(i)\n",
    "    # And compute the spectrogram magnitude and phase\n",
    "    S_full, phase = librosa.magphase(librosa.stft(y))\n",
    "\n",
    "    idx = slice(*librosa.time_to_frames([0, 10], sr=sr))\n",
    "    #filter out background noise to 'clean' the audio file to have just voices\n",
    "    S_filter = librosa.decompose.nn_filter(S_full,\n",
    "                                           aggregate=np.median,\n",
    "                                           metric='cosine',\n",
    "                                           width=int(librosa.time_to_frames(2, sr=sr)))\n",
    "\n",
    "    # The output of the filter shouldn't be greater than the input\n",
    "    # if we assume signals are additive.  Taking the pointwise minimium\n",
    "    # with the input spectrum forces this.\n",
    "    S_filter = np.minimum(S_full, S_filter)\n",
    "    # We can also use a margin to reduce bleed between the vocals and instrumentation masks.\n",
    "    # Note: the margins need not be equal for foreground and background separation\n",
    "    margin_i, margin_v = 2, 10\n",
    "    power = 2\n",
    "\n",
    "    mask_i = librosa.util.softmask(S_filter,\n",
    "                                   margin_i * (S_full - S_filter),\n",
    "                                   power=power)\n",
    "\n",
    "    mask_v = librosa.util.softmask(S_full - S_filter,\n",
    "                                   margin_v * S_filter,\n",
    "                                   power=power)\n",
    "\n",
    "\n",
    "    S_foreground = mask_v * S_full\n",
    "    S_background = mask_i * S_full\n",
    "    save_path = 'spectrograms/'+i[:-3]+'png'\n",
    "    #pylab.axis('off') # no axis\n",
    "    pylab.axes([0., 0., 1., 1.], frameon=False, xticks=[], yticks=[]) # Remove the white edge\n",
    "    #S = librosa.feature.melspectrogram(y=sig, sr=fs)\n",
    "    librosa.display.specshow(librosa.amplitude_to_db(S_foreground[:, idx], ref=np.max),\n",
    "                              sr=sr)\n",
    "\n",
    "    pylab.savefig(save_path, bbox_inches=None, pad_inches=0)\n",
    "    pylab.close()\n",
    "\n",
    "    "
   ]
  },
  {
   "cell_type": "code",
   "execution_count": null,
   "metadata": {},
   "outputs": [],
   "source": []
  }
 ],
 "metadata": {
  "kernelspec": {
   "display_name": "Python 3",
   "language": "python",
   "name": "python3"
  },
  "language_info": {
   "codemirror_mode": {
    "name": "ipython",
    "version": 3
   },
   "file_extension": ".py",
   "mimetype": "text/x-python",
   "name": "python",
   "nbconvert_exporter": "python",
   "pygments_lexer": "ipython3",
   "version": "3.5.0"
  }
 },
 "nbformat": 4,
 "nbformat_minor": 2
}
